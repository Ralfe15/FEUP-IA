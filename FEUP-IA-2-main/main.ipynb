{
 "cells": [
  {
   "cell_type": "code",
   "execution_count": 1,
   "metadata": {
    "ExecuteTime": {
     "end_time": "2023-05-18T19:27:32.901799Z",
     "start_time": "2023-05-18T19:27:31.934800Z"
    }
   },
   "outputs": [
    {
     "data": {
      "text/html": [
       "<div>\n",
       "<style scoped>\n",
       "    .dataframe tbody tr th:only-of-type {\n",
       "        vertical-align: middle;\n",
       "    }\n",
       "\n",
       "    .dataframe tbody tr th {\n",
       "        vertical-align: top;\n",
       "    }\n",
       "\n",
       "    .dataframe thead th {\n",
       "        text-align: right;\n",
       "    }\n",
       "</style>\n",
       "<table border=\"1\" class=\"dataframe\">\n",
       "  <thead>\n",
       "    <tr style=\"text-align: right;\">\n",
       "      <th></th>\n",
       "      <th>SIZE</th>\n",
       "      <th>FUEL</th>\n",
       "      <th>DISTANCE</th>\n",
       "      <th>DESIBEL</th>\n",
       "      <th>AIRFLOW</th>\n",
       "      <th>FREQUENCY</th>\n",
       "      <th>STATUS</th>\n",
       "    </tr>\n",
       "  </thead>\n",
       "  <tbody>\n",
       "    <tr>\n",
       "      <th>0</th>\n",
       "      <td>1</td>\n",
       "      <td>gasoline</td>\n",
       "      <td>10</td>\n",
       "      <td>96</td>\n",
       "      <td>0.0</td>\n",
       "      <td>75</td>\n",
       "      <td>0</td>\n",
       "    </tr>\n",
       "    <tr>\n",
       "      <th>1</th>\n",
       "      <td>1</td>\n",
       "      <td>gasoline</td>\n",
       "      <td>10</td>\n",
       "      <td>96</td>\n",
       "      <td>0.0</td>\n",
       "      <td>72</td>\n",
       "      <td>1</td>\n",
       "    </tr>\n",
       "    <tr>\n",
       "      <th>2</th>\n",
       "      <td>1</td>\n",
       "      <td>gasoline</td>\n",
       "      <td>10</td>\n",
       "      <td>96</td>\n",
       "      <td>2.6</td>\n",
       "      <td>70</td>\n",
       "      <td>1</td>\n",
       "    </tr>\n",
       "    <tr>\n",
       "      <th>3</th>\n",
       "      <td>1</td>\n",
       "      <td>gasoline</td>\n",
       "      <td>10</td>\n",
       "      <td>96</td>\n",
       "      <td>3.2</td>\n",
       "      <td>68</td>\n",
       "      <td>1</td>\n",
       "    </tr>\n",
       "    <tr>\n",
       "      <th>4</th>\n",
       "      <td>1</td>\n",
       "      <td>gasoline</td>\n",
       "      <td>10</td>\n",
       "      <td>109</td>\n",
       "      <td>4.5</td>\n",
       "      <td>67</td>\n",
       "      <td>1</td>\n",
       "    </tr>\n",
       "    <tr>\n",
       "      <th>...</th>\n",
       "      <td>...</td>\n",
       "      <td>...</td>\n",
       "      <td>...</td>\n",
       "      <td>...</td>\n",
       "      <td>...</td>\n",
       "      <td>...</td>\n",
       "      <td>...</td>\n",
       "    </tr>\n",
       "    <tr>\n",
       "      <th>17437</th>\n",
       "      <td>7</td>\n",
       "      <td>lpg</td>\n",
       "      <td>190</td>\n",
       "      <td>86</td>\n",
       "      <td>2.2</td>\n",
       "      <td>5</td>\n",
       "      <td>0</td>\n",
       "    </tr>\n",
       "    <tr>\n",
       "      <th>17438</th>\n",
       "      <td>7</td>\n",
       "      <td>lpg</td>\n",
       "      <td>190</td>\n",
       "      <td>84</td>\n",
       "      <td>2.0</td>\n",
       "      <td>4</td>\n",
       "      <td>0</td>\n",
       "    </tr>\n",
       "    <tr>\n",
       "      <th>17439</th>\n",
       "      <td>7</td>\n",
       "      <td>lpg</td>\n",
       "      <td>190</td>\n",
       "      <td>80</td>\n",
       "      <td>1.5</td>\n",
       "      <td>3</td>\n",
       "      <td>0</td>\n",
       "    </tr>\n",
       "    <tr>\n",
       "      <th>17440</th>\n",
       "      <td>7</td>\n",
       "      <td>lpg</td>\n",
       "      <td>190</td>\n",
       "      <td>76</td>\n",
       "      <td>0.4</td>\n",
       "      <td>2</td>\n",
       "      <td>0</td>\n",
       "    </tr>\n",
       "    <tr>\n",
       "      <th>17441</th>\n",
       "      <td>7</td>\n",
       "      <td>lpg</td>\n",
       "      <td>190</td>\n",
       "      <td>72</td>\n",
       "      <td>0.0</td>\n",
       "      <td>1</td>\n",
       "      <td>0</td>\n",
       "    </tr>\n",
       "  </tbody>\n",
       "</table>\n",
       "<p>17442 rows × 7 columns</p>\n",
       "</div>"
      ],
      "text/plain": [
       "       SIZE      FUEL  DISTANCE  DESIBEL  AIRFLOW  FREQUENCY  STATUS\n",
       "0         1  gasoline        10       96      0.0         75       0\n",
       "1         1  gasoline        10       96      0.0         72       1\n",
       "2         1  gasoline        10       96      2.6         70       1\n",
       "3         1  gasoline        10       96      3.2         68       1\n",
       "4         1  gasoline        10      109      4.5         67       1\n",
       "...     ...       ...       ...      ...      ...        ...     ...\n",
       "17437     7       lpg       190       86      2.2          5       0\n",
       "17438     7       lpg       190       84      2.0          4       0\n",
       "17439     7       lpg       190       80      1.5          3       0\n",
       "17440     7       lpg       190       76      0.4          2       0\n",
       "17441     7       lpg       190       72      0.0          1       0\n",
       "\n",
       "[17442 rows x 7 columns]"
      ]
     },
     "execution_count": 1,
     "metadata": {},
     "output_type": "execute_result"
    }
   ],
   "source": [
    "import numpy as np\n",
    "import pandas as pd\n",
    "import matplotlib.pyplot as plt\n",
    "import seaborn as sns\n",
    "%matplotlib inline\n",
    "\n",
    "import os\n",
    "\n",
    "#To read data from the excel file\n",
    "data = pd.read_excel('./Acoustic_Extinguisher_Fire_Dataset/Acoustic_Extinguisher_Fire_Dataset.xlsx')"
   ]
  },
  {
   "cell_type": "code",
   "execution_count": 2,
   "metadata": {
    "ExecuteTime": {
     "end_time": "2023-05-18T19:27:32.931804Z",
     "start_time": "2023-05-18T19:27:32.902800Z"
    }
   },
   "outputs": [
    {
     "name": "stdout",
     "output_type": "stream",
     "text": [
      "<class 'pandas.core.frame.DataFrame'>\n",
      "RangeIndex: 17442 entries, 0 to 17441\n",
      "Data columns (total 7 columns):\n",
      " #   Column     Non-Null Count  Dtype  \n",
      "---  ------     --------------  -----  \n",
      " 0   SIZE       17442 non-null  int64  \n",
      " 1   FUEL       17442 non-null  object \n",
      " 2   DISTANCE   17442 non-null  int64  \n",
      " 3   DESIBEL    17442 non-null  int64  \n",
      " 4   AIRFLOW    17442 non-null  float64\n",
      " 5   FREQUENCY  17442 non-null  int64  \n",
      " 6   STATUS     17442 non-null  int64  \n",
      "dtypes: float64(1), int64(5), object(1)\n",
      "memory usage: 954.0+ KB\n"
     ]
    }
   ],
   "source": [
    "#To check if there is any null value in the data and check the data type of each column\n",
    "data.info()"
   ]
  },
  {
   "cell_type": "code",
   "execution_count": 3,
   "metadata": {
    "ExecuteTime": {
     "end_time": "2023-05-18T19:27:32.986799Z",
     "start_time": "2023-05-18T19:27:32.917801Z"
    }
   },
   "outputs": [
    {
     "data": {
      "text/html": [
       "<div>\n",
       "<style scoped>\n",
       "    .dataframe tbody tr th:only-of-type {\n",
       "        vertical-align: middle;\n",
       "    }\n",
       "\n",
       "    .dataframe tbody tr th {\n",
       "        vertical-align: top;\n",
       "    }\n",
       "\n",
       "    .dataframe thead th {\n",
       "        text-align: right;\n",
       "    }\n",
       "</style>\n",
       "<table border=\"1\" class=\"dataframe\">\n",
       "  <thead>\n",
       "    <tr style=\"text-align: right;\">\n",
       "      <th></th>\n",
       "      <th>SIZE</th>\n",
       "      <th>DISTANCE</th>\n",
       "      <th>DESIBEL</th>\n",
       "      <th>AIRFLOW</th>\n",
       "      <th>FREQUENCY</th>\n",
       "      <th>STATUS</th>\n",
       "    </tr>\n",
       "  </thead>\n",
       "  <tbody>\n",
       "    <tr>\n",
       "      <th>count</th>\n",
       "      <td>17442.000000</td>\n",
       "      <td>17442.000000</td>\n",
       "      <td>17442.000000</td>\n",
       "      <td>17442.000000</td>\n",
       "      <td>17442.000000</td>\n",
       "      <td>17442.000000</td>\n",
       "    </tr>\n",
       "    <tr>\n",
       "      <th>mean</th>\n",
       "      <td>3.411765</td>\n",
       "      <td>100.000000</td>\n",
       "      <td>96.379142</td>\n",
       "      <td>6.975634</td>\n",
       "      <td>31.611111</td>\n",
       "      <td>0.497821</td>\n",
       "    </tr>\n",
       "    <tr>\n",
       "      <th>std</th>\n",
       "      <td>1.750977</td>\n",
       "      <td>54.773826</td>\n",
       "      <td>8.164096</td>\n",
       "      <td>4.736169</td>\n",
       "      <td>20.939149</td>\n",
       "      <td>0.500010</td>\n",
       "    </tr>\n",
       "    <tr>\n",
       "      <th>min</th>\n",
       "      <td>1.000000</td>\n",
       "      <td>10.000000</td>\n",
       "      <td>72.000000</td>\n",
       "      <td>0.000000</td>\n",
       "      <td>1.000000</td>\n",
       "      <td>0.000000</td>\n",
       "    </tr>\n",
       "    <tr>\n",
       "      <th>25%</th>\n",
       "      <td>2.000000</td>\n",
       "      <td>50.000000</td>\n",
       "      <td>90.000000</td>\n",
       "      <td>3.200000</td>\n",
       "      <td>14.000000</td>\n",
       "      <td>0.000000</td>\n",
       "    </tr>\n",
       "    <tr>\n",
       "      <th>50%</th>\n",
       "      <td>3.000000</td>\n",
       "      <td>100.000000</td>\n",
       "      <td>95.000000</td>\n",
       "      <td>5.800000</td>\n",
       "      <td>27.500000</td>\n",
       "      <td>0.000000</td>\n",
       "    </tr>\n",
       "    <tr>\n",
       "      <th>75%</th>\n",
       "      <td>5.000000</td>\n",
       "      <td>150.000000</td>\n",
       "      <td>104.000000</td>\n",
       "      <td>11.200000</td>\n",
       "      <td>47.000000</td>\n",
       "      <td>1.000000</td>\n",
       "    </tr>\n",
       "    <tr>\n",
       "      <th>max</th>\n",
       "      <td>7.000000</td>\n",
       "      <td>190.000000</td>\n",
       "      <td>113.000000</td>\n",
       "      <td>17.000000</td>\n",
       "      <td>75.000000</td>\n",
       "      <td>1.000000</td>\n",
       "    </tr>\n",
       "  </tbody>\n",
       "</table>\n",
       "</div>"
      ],
      "text/plain": [
       "               SIZE      DISTANCE       DESIBEL       AIRFLOW     FREQUENCY  \\\n",
       "count  17442.000000  17442.000000  17442.000000  17442.000000  17442.000000   \n",
       "mean       3.411765    100.000000     96.379142      6.975634     31.611111   \n",
       "std        1.750977     54.773826      8.164096      4.736169     20.939149   \n",
       "min        1.000000     10.000000     72.000000      0.000000      1.000000   \n",
       "25%        2.000000     50.000000     90.000000      3.200000     14.000000   \n",
       "50%        3.000000    100.000000     95.000000      5.800000     27.500000   \n",
       "75%        5.000000    150.000000    104.000000     11.200000     47.000000   \n",
       "max        7.000000    190.000000    113.000000     17.000000     75.000000   \n",
       "\n",
       "             STATUS  \n",
       "count  17442.000000  \n",
       "mean       0.497821  \n",
       "std        0.500010  \n",
       "min        0.000000  \n",
       "25%        0.000000  \n",
       "50%        0.000000  \n",
       "75%        1.000000  \n",
       "max        1.000000  "
      ]
     },
     "execution_count": 3,
     "metadata": {},
     "output_type": "execute_result"
    }
   ],
   "source": [
    "# To check if there is any outlier in the data\n",
    "data.describe()"
   ]
  },
  {
   "cell_type": "code",
   "execution_count": 5,
   "metadata": {
    "ExecuteTime": {
     "end_time": "2023-05-18T19:27:33.087800Z",
     "start_time": "2023-05-18T19:27:32.982800Z"
    }
   },
   "outputs": [
    {
     "data": {
      "text/plain": [
       "<AxesSubplot:xlabel='FUEL', ylabel='Count'>"
      ]
     },
     "execution_count": 5,
     "metadata": {},
     "output_type": "execute_result"
    },
    {
     "data": {
      "image/png": "[encoded data removed]",
      "text/plain": [
       "<Figure size 252x216 with 1 Axes>"
      ]
     },
     "metadata": {
      "needs_background": "light"
     },
     "output_type": "display_data"
    }
   ],
   "source": [
    "# To check the distribution of different types of fuel\n",
    "plt.figure(figsize=(3.5,3))\n",
    "plt.style.use('ggplot')\n",
    "sns.histplot(data.FUEL)"
   ]
  },
  {
   "cell_type": "code",
   "execution_count": 22,
   "metadata": {
    "ExecuteTime": {
     "end_time": "2023-05-18T19:27:33.131797Z",
     "start_time": "2023-05-18T19:27:33.086798Z"
    }
   },
   "outputs": [
    {
     "data": {
      "text/plain": [
       "[array([0., 1., 2., 3.])]"
      ]
     },
     "execution_count": 22,
     "metadata": {},
     "output_type": "execute_result"
    }
   ],
   "source": [
    "# Preprocessing the data to convert the categorical data into numerical data using OneHotEncoder\n",
    "from sklearn.preprocessing import OneHotEncoder\n",
    "encoder = OneHotEncoder()\n",
    "data_encoded = encoder.fit_transform(data[[\"FUEL\"]])\n",
    "data[\"FUEL\"] = data_encoded.toarray()\n",
    "encoder.categories_"
   ]
  },
  {
   "cell_type": "code",
   "execution_count": 23,
   "metadata": {
    "ExecuteTime": {
     "end_time": "2023-05-18T19:27:33.334799Z",
     "start_time": "2023-05-18T19:27:33.320800Z"
    }
   },
   "outputs": [],
   "source": [
    "# Modelling \n",
    "from sklearn.model_selection import train_test_split\n",
    "from sklearn.metrics import accuracy_score, confusion_matrix\n",
    "\n",
    "X=data.drop(['STATUS'],axis=1)\n",
    "y=data['STATUS']\n",
    "X_train,X_test,y_train,y_test = train_test_split(X,y,test_size=0.2,random_state=2)"
   ]
  },
  {
   "cell_type": "code",
   "execution_count": 24,
   "metadata": {
    "ExecuteTime": {
     "end_time": "2023-05-18T19:27:33.392800Z",
     "start_time": "2023-05-18T19:27:33.335800Z"
    }
   },
   "outputs": [
    {
     "data": {
      "text/plain": [
       "0.9378045285182001"
      ]
     },
     "execution_count": 24,
     "metadata": {},
     "output_type": "execute_result"
    }
   ],
   "source": [
    "# Decision tree classifier\n",
    "from sklearn.tree import DecisionTreeClassifier\n",
    "classifier1 = DecisionTreeClassifier()\n",
    "classifier1.fit(X_train,y_train)\n",
    "y_pred = classifier1.predict(X_test)\n",
    "accuracy_score(y_test,y_pred)"
   ]
  },
  {
   "cell_type": "code",
   "execution_count": 25,
   "metadata": {
    "ExecuteTime": {
     "end_time": "2023-05-18T19:27:34.951800Z",
     "start_time": "2023-05-18T19:27:33.383797Z"
    }
   },
   "outputs": [
    {
     "data": {
      "text/plain": [
       "0.8779019776440241"
      ]
     },
     "execution_count": 25,
     "metadata": {},
     "output_type": "execute_result"
    }
   ],
   "source": [
    "# Support vector machine\n",
    "from sklearn.svm import SVC\n",
    "from sklearn.preprocessing import StandardScaler\n",
    "\n",
    "# create a StandardScaler object and fit it to the training data\n",
    "scaler = StandardScaler()\n",
    "X_train_scaled = scaler.fit_transform(X_train)\n",
    "\n",
    "# create an SVC object and fit it to the scaled training data\n",
    "svm = SVC(kernel='linear', C=1, random_state=42)\n",
    "svm.fit(X_train_scaled, y_train)\n",
    "\n",
    "# scale test data using the same StandardScaler object\n",
    "X_test_scaled = scaler.transform(X_test)\n",
    "\n",
    "# use the trained SVM to make predictions on test data\n",
    "y_pred = svm.predict(X_test_scaled)\n",
    "\n",
    "accuracy_score(y_test,y_pred)\n"
   ]
  },
  {
   "cell_type": "code",
   "execution_count": 12,
   "metadata": {
    "ExecuteTime": {
     "end_time": "2023-05-18T19:27:35.044798Z",
     "start_time": "2023-05-18T19:27:34.952799Z"
    },
    "collapsed": false
   },
   "outputs": [
    {
     "data": {
      "text/plain": [
       "0.9211808541129264"
      ]
     },
     "execution_count": 12,
     "metadata": {},
     "output_type": "execute_result"
    }
   ],
   "source": [
    "# K-NN\n",
    "from sklearn.neighbors import KNeighborsClassifier\n",
    "knn = KNeighborsClassifier()\n",
    "knn.fit(X_train,y_train)\n",
    "y_pred = knn.predict(X_test)\n",
    "\n",
    "accuracy_score(y_test,y_pred)"
   ]
  },
  {
   "cell_type": "code",
   "execution_count": 13,
   "metadata": {
    "ExecuteTime": {
     "end_time": "2023-05-18T19:27:35.667798Z",
     "start_time": "2023-05-18T19:27:35.045802Z"
    },
    "collapsed": false
   },
   "outputs": [
    {
     "data": {
      "text/plain": [
       "0.9627400401261106"
      ]
     },
     "execution_count": 13,
     "metadata": {},
     "output_type": "execute_result"
    }
   ],
   "source": [
    "# Random forest\n",
    "from sklearn.ensemble import RandomForestClassifier\n",
    "classifier2 = RandomForestClassifier()\n",
    "classifier2.fit(X_train,y_train)\n",
    "y_pred = classifier2.predict(X_test)\n",
    "\n",
    "accuracy_score(y_test,y_pred)"
   ]
  },
  {
   "cell_type": "code",
   "execution_count": 26,
   "metadata": {
    "ExecuteTime": {
     "end_time": "2023-05-18T19:28:17.964039Z",
     "start_time": "2023-05-18T19:27:35.668801Z"
    },
    "collapsed": false
   },
   "outputs": [
    {
     "name": "stdout",
     "output_type": "stream",
     "text": [
      "110/110 [==============================] - 0s 559us/step\n",
      "Accuracy: 0.9254800802522213\n",
      "Confusion Matrix:\n",
      "[[1689   72]\n",
      " [ 188 1540]]\n"
     ]
    }
   ],
   "source": [
    "# Artificial neural network\n",
    "import tensorflow as tf\n",
    "from sklearn.metrics import accuracy_score, confusion_matrix\n",
    "\n",
    "def create_model():\n",
    "    model = tf.keras.models.Sequential([\n",
    "        tf.keras.layers.Dense(hidden_neurons, activation='relu', input_shape=(input_neurons,)),\n",
    "        tf.keras.layers.Dense(output_neurons, activation='softmax')\n",
    "    ])\n",
    "\n",
    "    optimizer = tf.keras.optimizers.Adam(learning_rate=0.0001)\n",
    "    model.compile(optimizer=optimizer, loss='sparse_categorical_crossentropy', metrics=['accuracy'])\n",
    "    return model\n",
    "\n",
    "# Define the number of neurons in each layer\n",
    "input_neurons = X_train.shape[1]\n",
    "hidden_neurons = 100\n",
    "output_neurons = 2\n",
    "\n",
    "# Create the neural network model\n",
    "model = create_model()\n",
    "\n",
    "# Train the model\n",
    "model.fit(X_train, y_train, epochs=200, verbose=0)\n",
    "\n",
    "# Evaluate the model on the test set\n",
    "y_pred_prob = model.predict(X_test)\n",
    "y_pred = np.argmax(y_pred_prob, axis=1)\n",
    "accuracy = accuracy_score(y_test, y_pred)\n",
    "confusion_mat = confusion_matrix(y_test, y_pred)\n",
    "\n",
    "print(\"Accuracy:\", accuracy)\n",
    "print(\"Confusion Matrix:\")\n",
    "print(confusion_mat)"
   ]
  },
  {
   "cell_type": "code",
   "execution_count": 28,
   "metadata": {
    "ExecuteTime": {
     "end_time": "2023-05-18T19:36:42.475087Z",
     "start_time": "2023-05-18T19:32:36.809649Z"
    },
    "collapsed": false
   },
   "outputs": [
    {
     "name": "stderr",
     "output_type": "stream",
     "text": [
      "c:\\Users\\Vitor\\anaconda3\\lib\\site-packages\\scikeras\\wrappers.py:301: UserWarning: ``build_fn`` will be renamed to ``model`` in a future release, at which point use of ``build_fn`` will raise an Error instead.\n",
      "  warnings.warn(\n",
      "c:\\Users\\Vitor\\anaconda3\\lib\\site-packages\\scikeras\\wrappers.py:301: UserWarning: ``build_fn`` will be renamed to ``model`` in a future release, at which point use of ``build_fn`` will raise an Error instead.\n",
      "  warnings.warn(\n",
      "c:\\Users\\Vitor\\anaconda3\\lib\\site-packages\\scikeras\\wrappers.py:301: UserWarning: ``build_fn`` will be renamed to ``model`` in a future release, at which point use of ``build_fn`` will raise an Error instead.\n",
      "  warnings.warn(\n",
      "c:\\Users\\Vitor\\anaconda3\\lib\\site-packages\\scikeras\\wrappers.py:301: UserWarning: ``build_fn`` will be renamed to ``model`` in a future release, at which point use of ``build_fn`` will raise an Error instead.\n",
      "  warnings.warn(\n",
      "c:\\Users\\Vitor\\anaconda3\\lib\\site-packages\\scikeras\\wrappers.py:301: UserWarning: ``build_fn`` will be renamed to ``model`` in a future release, at which point use of ``build_fn`` will raise an Error instead.\n",
      "  warnings.warn(\n",
      "c:\\Users\\Vitor\\anaconda3\\lib\\site-packages\\scikeras\\wrappers.py:301: UserWarning: ``build_fn`` will be renamed to ``model`` in a future release, at which point use of ``build_fn`` will raise an Error instead.\n",
      "  warnings.warn(\n"
     ]
    },
    {
     "data": {
      "text/plain": [
       "0.939524218973918"
      ]
     },
     "execution_count": 28,
     "metadata": {},
     "output_type": "execute_result"
    }
   ],
   "source": [
    "from sklearn.linear_model import LogisticRegression\n",
    "from sklearn.ensemble import StackingClassifier\n",
    "from scikeras.wrappers import KerasClassifier\n",
    "\n",
    "\n",
    "# Stacking meta model (combine previous)\n",
    "base_models = [\n",
    "    ('KNN', KNeighborsClassifier()),\n",
    "    ('Random Forest', RandomForestClassifier()),\n",
    "    ('Neural Network',KerasClassifier(build_fn=create_model, epochs=200, verbose=0))\n",
    "    ]\n",
    "\n",
    "stacked = StackingClassifier(\n",
    "    estimators = base_models,\n",
    "    final_estimator = LogisticRegression(),\n",
    "    cv = 5)\n",
    "\n",
    "stacked.fit(X_train, y_train)\n",
    "y_pred = stacked.predict(X_test)\n",
    "\n",
    "accuracy_score(y_test,y_pred)\n"
   ]
  }
 ],
 "metadata": {
  "kernelspec": {
   "display_name": "base",
   "language": "python",
   "name": "python3"
  },
  "language_info": {
   "codemirror_mode": {
    "name": "ipython",
    "version": 3
   },
   "file_extension": ".py",
   "mimetype": "text/x-python",
   "name": "python",
   "nbconvert_exporter": "python",
   "pygments_lexer": "ipython3",
   "version": "3.9.12"
  },
  "orig_nbformat": 4
 },
 "nbformat": 4,
 "nbformat_minor": 2
}
